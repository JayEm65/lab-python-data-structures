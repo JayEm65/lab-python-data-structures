{
 "cells": [
  {
   "cell_type": "code",
   "execution_count": null,
   "id": "7fc8029d-1ee4-4a15-8677-8fe561a106b0",
   "metadata": {},
   "outputs": [],
   "source": [
    "# 1: Define list\n",
    "products = [\"t-shirt\", \"mug\", \"hat\", \"book\", \"keychain\"]\n",
    "\n",
    "# 2: Empty Dict\n",
    "inventory = {}\n",
    "\n",
    "# 3: User input product quantity\n",
    "for product in products:\n",
    "    quantity = int(input(f\"Enter the quantity for {product}: \"))\n",
    "    inventory[product] = quantity\n",
    "\n",
    "# 4: Empty set\n",
    "customer_orders = set()\n",
    "\n",
    "# 5: User input product name\n",
    "for _ in range(3):\n",
    "    order = input(\"Enter the name of the product to order: \")\n",
    "    if order in products:\n",
    "        customer_orders.add(order)\n",
    "    else:\n",
    "        print(\"The product is not available in the list.\")\n",
    "\n",
    "# 6: Print products in ustomer_orders set\n",
    "print(\"Products ordered:\", customer_orders)\n",
    "\n",
    "# 7: Calculate order statistics\n",
    "total_products_ordered = len(customer_orders)\n",
    "total_available_products = len(products)\n",
    "percentage_ordered = (total_products_ordered / total_available_products) * 100\n",
    "order_status = (total_products_ordered, percentage_ordered)\n",
    "\n",
    "# 8: Print order statistics\n",
    "print(\"Order Statistics:\")\n",
    "print(f\"Total Products Ordered: {order_status[0]}\")\n",
    "print(f\"Percentage of Products Ordered: {order_status[1]:.2f}%\")\n",
    "\n",
    "# 9: Update inventory\n",
    "for product in customer_orders:\n",
    "    inventory[product] -= 1\n",
    "\n",
    "# 10: Print updated inventory\n",
    "print(\"Updated Inventory:\")\n",
    "for product, quantity in inventory.items():\n",
    "    print(f\"{product}: {quantity}\")"
   ]
  },
  {
   "cell_type": "code",
   "execution_count": null,
   "id": "9b27f98c-92ec-4ce3-a455-ad5a085b70ed",
   "metadata": {},
   "outputs": [],
   "source": []
  }
 ],
 "metadata": {
  "kernelspec": {
   "display_name": "Python 3 (ipykernel)",
   "language": "python",
   "name": "python3"
  },
  "language_info": {
   "codemirror_mode": {
    "name": "ipython",
    "version": 3
   },
   "file_extension": ".py",
   "mimetype": "text/x-python",
   "name": "python",
   "nbconvert_exporter": "python",
   "pygments_lexer": "ipython3",
   "version": "3.12.2"
  }
 },
 "nbformat": 4,
 "nbformat_minor": 5
}
